{
 "cells": [
  {
   "cell_type": "code",
   "execution_count": 1,
   "metadata": {},
   "outputs": [],
   "source": [
    "import pandas as pd \n",
    "import numpy as np"
   ]
  },
  {
   "cell_type": "markdown",
   "metadata": {},
   "source": [
    "## Importing the Matches and Deliveries Data\n",
    "- Analyze each of the csv separately\n",
    "- Understand each of the feature, fill in empty values with appropriate information\n",
    "- Optimize the memory utilization by casting the data structure for each of the feature "
   ]
  },
  {
   "cell_type": "code",
   "execution_count": 2,
   "metadata": {},
   "outputs": [],
   "source": [
    "matches_df = pd.read_csv(\"data/matches.csv\")\n",
    "deliveries_df = pd.read_csv(\"data/deliveries.csv\")"
   ]
  },
  {
   "cell_type": "code",
   "execution_count": 3,
   "metadata": {},
   "outputs": [
    {
     "name": "stdout",
     "output_type": "stream",
     "text": [
      "<class 'pandas.core.frame.DataFrame'>\n",
      "RangeIndex: 756 entries, 0 to 755\n",
      "Data columns (total 18 columns):\n",
      " #   Column           Non-Null Count  Dtype \n",
      "---  ------           --------------  ----- \n",
      " 0   id               756 non-null    int64 \n",
      " 1   season           756 non-null    int64 \n",
      " 2   city             749 non-null    object\n",
      " 3   date             756 non-null    object\n",
      " 4   team1            756 non-null    object\n",
      " 5   team2            756 non-null    object\n",
      " 6   toss_winner      756 non-null    object\n",
      " 7   toss_decision    756 non-null    object\n",
      " 8   result           756 non-null    object\n",
      " 9   dl_applied       756 non-null    int64 \n",
      " 10  winner           752 non-null    object\n",
      " 11  win_by_runs      756 non-null    int64 \n",
      " 12  win_by_wickets   756 non-null    int64 \n",
      " 13  player_of_match  752 non-null    object\n",
      " 14  venue            756 non-null    object\n",
      " 15  umpire1          754 non-null    object\n",
      " 16  umpire2          754 non-null    object\n",
      " 17  umpire3          119 non-null    object\n",
      "dtypes: int64(5), object(13)\n",
      "memory usage: 106.4+ KB\n"
     ]
    }
   ],
   "source": [
    "matches_df.info()"
   ]
  },
  {
   "cell_type": "code",
   "execution_count": 4,
   "metadata": {},
   "outputs": [
    {
     "name": "stdout",
     "output_type": "stream",
     "text": [
      "<class 'pandas.core.frame.DataFrame'>\n",
      "RangeIndex: 179078 entries, 0 to 179077\n",
      "Data columns (total 21 columns):\n",
      " #   Column            Non-Null Count   Dtype \n",
      "---  ------            --------------   ----- \n",
      " 0   match_id          179078 non-null  int64 \n",
      " 1   inning            179078 non-null  int64 \n",
      " 2   batting_team      179078 non-null  object\n",
      " 3   bowling_team      179078 non-null  object\n",
      " 4   over              179078 non-null  int64 \n",
      " 5   ball              179078 non-null  int64 \n",
      " 6   batsman           179078 non-null  object\n",
      " 7   non_striker       179078 non-null  object\n",
      " 8   bowler            179078 non-null  object\n",
      " 9   is_super_over     179078 non-null  int64 \n",
      " 10  wide_runs         179078 non-null  int64 \n",
      " 11  bye_runs          179078 non-null  int64 \n",
      " 12  legbye_runs       179078 non-null  int64 \n",
      " 13  noball_runs       179078 non-null  int64 \n",
      " 14  penalty_runs      179078 non-null  int64 \n",
      " 15  batsman_runs      179078 non-null  int64 \n",
      " 16  extra_runs        179078 non-null  int64 \n",
      " 17  total_runs        179078 non-null  int64 \n",
      " 18  player_dismissed  8834 non-null    object\n",
      " 19  dismissal_kind    8834 non-null    object\n",
      " 20  fielder           6448 non-null    object\n",
      "dtypes: int64(13), object(8)\n",
      "memory usage: 28.7+ MB\n"
     ]
    }
   ],
   "source": [
    "deliveries_df.info()"
   ]
  },
  {
   "cell_type": "code",
   "execution_count": 5,
   "metadata": {},
   "outputs": [
    {
     "data": {
      "text/plain": [
       "caught                   5348\n",
       "bowled                   1581\n",
       "run out                   852\n",
       "lbw                       540\n",
       "stumped                   278\n",
       "caught and bowled         211\n",
       "retired hurt               12\n",
       "hit wicket                 10\n",
       "obstructing the field       2\n",
       "Name: dismissal_kind, dtype: int64"
      ]
     },
     "execution_count": 5,
     "metadata": {},
     "output_type": "execute_result"
    }
   ],
   "source": [
    "deliveries_df[\"dismissal_kind\"].value_counts()"
   ]
  },
  {
   "cell_type": "markdown",
   "metadata": {},
   "source": [
    "### Observations so far!!\n",
    "- Initial looks, deliveries information seems to be complete, however, I have to understand the logic of fielder feature. \n",
    "- Matches information is incomplete, features mentioned below are missing values\n",
    "    - city (7)\n",
    "    - winner (4 matches no result)\n",
    "    - player of the match (4)\n",
    "    - umpire1 (2)\n",
    "    - umpire2 (2)\n",
    "    - umpire3 (637)\n",
    "- I believe we can convert most of the objects to categories to optimize the memory. "
   ]
  },
  {
   "cell_type": "markdown",
   "metadata": {},
   "source": [
    "### Matches Dataframe Analysis\n",
    "- Understand each of the feature\n",
    "- Optimize the memory utilization \n",
    "- Fill in missing columns"
   ]
  },
  {
   "cell_type": "code",
   "execution_count": 6,
   "metadata": {},
   "outputs": [
    {
     "data": {
      "text/plain": [
       "Mumbai            101\n",
       "Bangalore          80\n",
       "Kolkata            77\n",
       "Delhi              74\n",
       "Hyderabad          64\n",
       "Chennai            57\n",
       "Chandigarh         56\n",
       "Jaipur             47\n",
       "Pune               38\n",
       "Durban             15\n",
       "Visakhapatnam      13\n",
       "Ahmedabad          12\n",
       "Centurion          12\n",
       "Rajkot             10\n",
       "Dharamsala          9\n",
       "Indore              9\n",
       "Johannesburg        8\n",
       "Dubai               7\n",
       "Cuttack             7\n",
       "Port Elizabeth      7\n",
       "Cape Town           7\n",
       "Ranchi              7\n",
       "Abu Dhabi           7\n",
       "Sharjah             6\n",
       "Raipur              6\n",
       "Kochi               5\n",
       "Kanpur              4\n",
       "East London         3\n",
       "Kimberley           3\n",
       "Nagpur              3\n",
       "Bloemfontein        2\n",
       "Name: city, dtype: int64"
      ]
     },
     "execution_count": 6,
     "metadata": {},
     "output_type": "execute_result"
    }
   ],
   "source": [
    "# Note: Bangalore and Bengaluru are separate Chandigarh and Mohali are separate (Categories) (7 NA values - Dubai)\n",
    "matches_df.replace(\"Bengaluru\", \"Bangalore\", inplace=True)\n",
    "matches_df.replace(\"Mohali\", \"Chandigarh\", inplace=True)\n",
    "matches_df[\"city\"].fillna(\"Dubai\", inplace=True)\n",
    "matches_df[\"city\"] = matches_df[\"city\"].astype(\"category\")\n",
    "matches_df[\"city\"].value_counts()"
   ]
  },
  {
   "cell_type": "code",
   "execution_count": 7,
   "metadata": {},
   "outputs": [
    {
     "data": {
      "text/plain": [
       "0   2017-04-05\n",
       "1   2017-04-06\n",
       "2   2017-04-07\n",
       "3   2017-04-08\n",
       "4   2017-04-08\n",
       "Name: date, dtype: datetime64[ns]"
      ]
     },
     "execution_count": 7,
     "metadata": {},
     "output_type": "execute_result"
    }
   ],
   "source": [
    "matches_df[\"date\"] # can be converted to datetime format\n",
    "matches_df[\"date\"] = pd.to_datetime(matches_df[\"date\"])\n",
    "matches_df[\"date\"].head()"
   ]
  },
  {
   "cell_type": "code",
   "execution_count": 8,
   "metadata": {},
   "outputs": [
    {
     "data": {
      "text/plain": [
       "Mumbai Indians                 101\n",
       "Kings XI Punjab                 91\n",
       "Chennai Super Kings             89\n",
       "Royal Challengers Bangalore     85\n",
       "Kolkata Knight Riders           83\n",
       "Delhi Daredevils                72\n",
       "Rajasthan Royals                67\n",
       "Sunrisers Hyderabad             63\n",
       "Deccan Chargers                 43\n",
       "Pune Warriors                   20\n",
       "Rising Pune Supergiant          15\n",
       "Gujarat Lions                   14\n",
       "Kochi Tuskers Kerala             7\n",
       "Delhi Capitals                   6\n",
       "Name: team1, dtype: int64"
      ]
     },
     "execution_count": 8,
     "metadata": {},
     "output_type": "execute_result"
    }
   ],
   "source": [
    "# Note: Rising Pune Supergiants repeated twice in complete df (Categories) \n",
    "matches_df.replace(\"Rising Pune Supergiants\", \"Rising Pune Supergiant\", inplace=True)\n",
    "matches_df[\"team1\"] = matches_df[\"team1\"].astype(\"category\")\n",
    "matches_df[\"team1\"].value_counts()"
   ]
  },
  {
   "cell_type": "code",
   "execution_count": 9,
   "metadata": {},
   "outputs": [
    {
     "data": {
      "text/plain": [
       "Royal Challengers Bangalore    95\n",
       "Kolkata Knight Riders          95\n",
       "Delhi Daredevils               89\n",
       "Mumbai Indians                 86\n",
       "Kings XI Punjab                85\n",
       "Rajasthan Royals               80\n",
       "Chennai Super Kings            75\n",
       "Sunrisers Hyderabad            45\n",
       "Deccan Chargers                32\n",
       "Pune Warriors                  26\n",
       "Gujarat Lions                  16\n",
       "Rising Pune Supergiant         15\n",
       "Delhi Capitals                 10\n",
       "Kochi Tuskers Kerala            7\n",
       "Name: team2, dtype: int64"
      ]
     },
     "execution_count": 9,
     "metadata": {},
     "output_type": "execute_result"
    }
   ],
   "source": [
    "matches_df[\"team2\"] = matches_df[\"team2\"].astype(\"category\")\n",
    "matches_df[\"team2\"].value_counts()"
   ]
  },
  {
   "cell_type": "code",
   "execution_count": 10,
   "metadata": {},
   "outputs": [
    {
     "data": {
      "text/plain": [
       "Mumbai Indians                 98\n",
       "Kolkata Knight Riders          92\n",
       "Chennai Super Kings            89\n",
       "Royal Challengers Bangalore    81\n",
       "Kings XI Punjab                81\n",
       "Rajasthan Royals               80\n",
       "Delhi Daredevils               80\n",
       "Sunrisers Hyderabad            46\n",
       "Deccan Chargers                43\n",
       "Pune Warriors                  20\n",
       "Gujarat Lions                  15\n",
       "Rising Pune Supergiant         13\n",
       "Delhi Capitals                 10\n",
       "Kochi Tuskers Kerala            8\n",
       "Name: toss_winner, dtype: int64"
      ]
     },
     "execution_count": 10,
     "metadata": {},
     "output_type": "execute_result"
    }
   ],
   "source": [
    "matches_df[\"toss_winner\"] = matches_df[\"toss_winner\"].astype(\"category\")\n",
    "matches_df[\"toss_winner\"].value_counts()"
   ]
  },
  {
   "cell_type": "code",
   "execution_count": 11,
   "metadata": {},
   "outputs": [
    {
     "data": {
      "text/plain": [
       "field    463\n",
       "bat      293\n",
       "Name: toss_decision, dtype: int64"
      ]
     },
     "execution_count": 11,
     "metadata": {},
     "output_type": "execute_result"
    }
   ],
   "source": [
    "matches_df[\"toss_decision\"] = matches_df[\"toss_decision\"].astype(\"category\")\n",
    "matches_df[\"toss_decision\"].value_counts()"
   ]
  },
  {
   "cell_type": "code",
   "execution_count": 12,
   "metadata": {},
   "outputs": [
    {
     "data": {
      "text/plain": [
       "normal       743\n",
       "tie            9\n",
       "no result      4\n",
       "Name: result, dtype: int64"
      ]
     },
     "execution_count": 12,
     "metadata": {},
     "output_type": "execute_result"
    }
   ],
   "source": [
    "matches_df[\"result\"] = matches_df[\"result\"].astype(\"category\")\n",
    "matches_df[\"result\"].value_counts() # Should be converted to categries"
   ]
  },
  {
   "cell_type": "code",
   "execution_count": 13,
   "metadata": {},
   "outputs": [
    {
     "data": {
      "text/plain": [
       "CH Gayle          21\n",
       "AB de Villiers    20\n",
       "MS Dhoni          17\n",
       "DA Warner         17\n",
       "RG Sharma         17\n",
       "                  ..\n",
       "MF Maharoof        1\n",
       "MD Mishra          1\n",
       "MA Starc           1\n",
       "M Ur Rahman        1\n",
       "A Chandila         1\n",
       "Name: player_of_match, Length: 226, dtype: int64"
      ]
     },
     "execution_count": 13,
     "metadata": {},
     "output_type": "execute_result"
    }
   ],
   "source": [
    "# matches_df[matches_df[\"player_of_match\"].isna()]  (4 no result matches fun fact 3 our of 4 no result matches RCB were part of)\n",
    "matches_df[\"player_of_match\"] = matches_df[\"player_of_match\"].astype(\"category\")\n",
    "matches_df[\"player_of_match\"].value_counts()"
   ]
  },
  {
   "cell_type": "code",
   "execution_count": 14,
   "metadata": {},
   "outputs": [
    {
     "data": {
      "text/plain": [
       "Mumbai Indians                 109\n",
       "Chennai Super Kings            100\n",
       "Kolkata Knight Riders           92\n",
       "Royal Challengers Bangalore     84\n",
       "Kings XI Punjab                 82\n",
       "Rajasthan Royals                75\n",
       "Delhi Daredevils                67\n",
       "Sunrisers Hyderabad             58\n",
       "Deccan Chargers                 29\n",
       "Rising Pune Supergiant          15\n",
       "Gujarat Lions                   13\n",
       "Pune Warriors                   12\n",
       "Delhi Capitals                  10\n",
       "Kochi Tuskers Kerala             6\n",
       "Name: winner, dtype: int64"
      ]
     },
     "execution_count": 14,
     "metadata": {},
     "output_type": "execute_result"
    }
   ],
   "source": [
    "# matches_df[matches_df[\"winner\"].isna()] only 752 values available (4 no result matches )\n",
    "matches_df[\"winner\"] = matches_df[\"winner\"].astype(\"category\")\n",
    "matches_df[\"winner\"].value_counts()"
   ]
  },
  {
   "cell_type": "code",
   "execution_count": 15,
   "metadata": {},
   "outputs": [
    {
     "data": {
      "text/plain": [
       "Eden Gardens                                            77\n",
       "Feroz Shah Kotla                                        74\n",
       "Wankhede Stadium                                        73\n",
       "M Chinnaswamy Stadium                                   73\n",
       "Rajiv Gandhi International Stadium, Uppal               64\n",
       "MA Chidambaram Stadium, Chepauk                         57\n",
       "Punjab Cricket Association IS Bindra Stadium, Mohali    49\n",
       "Sawai Mansingh Stadium                                  47\n",
       "Maharashtra Cricket Association Stadium                 21\n",
       "Dr DY Patil Sports Academy                              17\n",
       "Subrata Roy Sahara Stadium                              17\n",
       "Kingsmead                                               15\n",
       "SuperSport Park                                         12\n",
       "Sardar Patel Stadium, Motera                            12\n",
       "Brabourne Stadium                                       11\n",
       "Dr. Y.S. Rajasekhara Reddy ACA-VDCA Cricket Stadium     11\n",
       "Saurashtra Cricket Association Stadium                  10\n",
       "Himachal Pradesh Cricket Association Stadium             9\n",
       "Holkar Cricket Stadium                                   9\n",
       "New Wanderers Stadium                                    8\n",
       "IS Bindra Stadium                                        7\n",
       "Dubai International Cricket Stadium                      7\n",
       "Sheikh Zayed Stadium                                     7\n",
       "JSCA International Stadium Complex                       7\n",
       "St George's Park                                         7\n",
       "Newlands                                                 7\n",
       "Barabati Stadium                                         7\n",
       "M. Chinnaswamy Stadium                                   7\n",
       "Sharjah Cricket Stadium                                  6\n",
       "Shaheed Veer Narayan Singh International Stadium         6\n",
       "Nehru Stadium                                            5\n",
       "Green Park                                               4\n",
       "Vidarbha Cricket Association Stadium, Jamtha             3\n",
       "De Beers Diamond Oval                                    3\n",
       "Buffalo Park                                             3\n",
       "OUTsurance Oval                                          2\n",
       "ACA-VDCA Stadium                                         2\n",
       "Name: venue, dtype: int64"
      ]
     },
     "execution_count": 15,
     "metadata": {},
     "output_type": "execute_result"
    }
   ],
   "source": [
    "# Lot of duplicate entries with different spelling should clean this up! (categories) \n",
    "# Check if below values are actual duplicates by comparing the city column! \n",
    "# Rajiv Gandhi International Stadium, Uppal vs Rajiv Gandhi Intl. Cricket Stadium (Hyderabad)\n",
    "# Punjab Cricket Association IS Bindra Stadium, Mohali vs Punjab Cricket Association Stadium, Mohali\n",
    "# M. A. Chidambaram Stadium vs MA Chidambaram Stadium, Chepauk\n",
    "# M Chinnaswamy Stadium vs M. Chinnaswamy Stadium\n",
    "# Feroz Shah Kotla vs Feroz Shah Kotla Ground\n",
    "\n",
    "matches_df.replace(\"Rajiv Gandhi Intl. Cricket Stadium\", \"Rajiv Gandhi International Stadium, Uppal\", inplace=True)\n",
    "matches_df.replace(\"Punjab Cricket Association Stadium, Mohali\", \"Punjab Cricket Association IS Bindra Stadium, Mohali\", inplace=True)\n",
    "matches_df.replace(\"M. A. Chidambaram Stadium\", \"MA Chidambaram Stadium, Chepauk\", inplace=True)\n",
    "matches_df.replace(\"Feroz Shah Kotla Ground\", \"Feroz Shah Kotla\", inplace=True)\n",
    "matches_df[\"venue\"] = matches_df[\"venue\"].astype(\"category\")\n",
    "matches_df[\"venue\"].value_counts() "
   ]
  },
  {
   "cell_type": "code",
   "execution_count": 16,
   "metadata": {},
   "outputs": [
    {
     "data": {
      "text/plain": [
       "HDPK Dharmasena    73\n",
       "Asad Rauf          51\n",
       "S Ravi             49\n",
       "AK Chaudhary       43\n",
       "Aleem Dar          38\n",
       "                   ..\n",
       "SL Shastri          1\n",
       "Sundaram Ravi       1\n",
       "Ulhas Gandhe        1\n",
       "VK Sharma           1\n",
       "A Nanda Kishore     1\n",
       "Name: umpire1, Length: 62, dtype: int64"
      ]
     },
     "execution_count": 16,
     "metadata": {},
     "output_type": "execute_result"
    }
   ],
   "source": [
    "# umpire1 Only 754 values found (Categories)\n",
    "matches_df.loc[4, \"umpire1\"] = \"VK Sharma\" # 2017-04-08 (index=4) u1 = Virender Sharma (https://www.espncricinfo.com/series/8048/scorecard/1082595/royal-challengers-bangalore-vs-delhi-daredevils-5th-match-indian-premier-league-2017)\n",
    "matches_df.loc[753, \"umpire1\"] = \"Bruce Oxenford\" # 2019-08-05 (index=753) u1 = Bruce Oxenford (https://www.espncricinfo.com/series/8048/scorecard/1181766/delhi-capitals-vs-sunrisers-hyderabad-eliminator-indian-premier-league-2019)\n",
    "matches_df[\"umpire1\"] = matches_df[\"umpire1\"].astype(\"category\")\n",
    "matches_df[\"umpire1\"].value_counts()"
   ]
  },
  {
   "cell_type": "code",
   "execution_count": 17,
   "metadata": {},
   "outputs": [
    {
     "data": {
      "text/plain": [
       "S Ravi                   59\n",
       "C Shamshuddin            57\n",
       "SJA Taufel               54\n",
       "RJ Tucker                38\n",
       "CK Nandan                36\n",
       "                         ..\n",
       "SD Fry                    1\n",
       "KN Ananthapadmanabhan     1\n",
       "Nand Kishore              1\n",
       "Ian Gould                 1\n",
       "JD Cloete                 1\n",
       "Name: umpire2, Length: 65, dtype: int64"
      ]
     },
     "execution_count": 17,
     "metadata": {},
     "output_type": "execute_result"
    }
   ],
   "source": [
    "# umpire2 Only 754 values found (Categories)\n",
    "matches_df.loc[4, \"umpire2\"] = \"S Ravi\" # 2017-04-08 (index=4) u2 = Sundaram Ravi (https://www.espncricinfo.com/series/8048/scorecard/1082595/royal-challengers-bangalore-vs-delhi-daredevils-5th-match-indian-premier-league-2017)\n",
    "matches_df.loc[753, \"umpire2\"] = \"S Ravi\" # 2019-08-05 (index=753) u2 = Sundaram Ravi (https://www.espncricinfo.com/series/8048/scorecard/1181766/delhi-capitals-vs-sunrisers-hyderabad-eliminator-indian-premier-league-2019)\n",
    "matches_df[\"umpire2\"] = matches_df[\"umpire2\"].astype(\"category\")\n",
    "matches_df[\"umpire2\"].value_counts()"
   ]
  },
  {
   "cell_type": "code",
   "execution_count": 18,
   "metadata": {},
   "outputs": [
    {
     "data": {
      "text/plain": [
       "O Nandan                   10\n",
       "Nitin Menon                10\n",
       "C Shamshuddin              10\n",
       "Anil Chaudhary              9\n",
       "Vineet Kulkarni             8\n",
       "S Ravi                      8\n",
       "Yeshwant Barde              7\n",
       "Anil Dandekar               7\n",
       "Bruce Oxenford              7\n",
       "Chris Gaffaney              6\n",
       "Rod Tucker                  5\n",
       "Marais Erasmus              5\n",
       "Nigel Llong                 4\n",
       "Ian Gould                   3\n",
       "A Nanda Kishore             3\n",
       "Nanda Kishore               3\n",
       "K Ananthapadmanabhan        2\n",
       "Virender Kumar Sharma       2\n",
       "Ulhas Gandhe                2\n",
       "A.D Deshmukh                2\n",
       "Kumar Dharmasena            2\n",
       "KN Anantapadmanabhan        1\n",
       "KN Ananthapadmanabhan       1\n",
       "Chettithody Shamshuddin     1\n",
       "Sundaram Ravi               1\n",
       "Name: umpire3, dtype: int64"
      ]
     },
     "execution_count": 18,
     "metadata": {},
     "output_type": "execute_result"
    }
   ],
   "source": [
    "# umpire 3 not very much concerned!\n",
    "matches_df[\"umpire3\"] = matches_df[\"umpire3\"].astype(\"category\") \n",
    "matches_df[\"umpire3\"].value_counts() "
   ]
  },
  {
   "cell_type": "code",
   "execution_count": 19,
   "metadata": {},
   "outputs": [
    {
     "name": "stdout",
     "output_type": "stream",
     "text": [
      "<class 'pandas.core.frame.DataFrame'>\n",
      "RangeIndex: 756 entries, 0 to 755\n",
      "Data columns (total 18 columns):\n",
      " #   Column           Non-Null Count  Dtype         \n",
      "---  ------           --------------  -----         \n",
      " 0   id               756 non-null    int64         \n",
      " 1   season           756 non-null    int64         \n",
      " 2   city             756 non-null    category      \n",
      " 3   date             756 non-null    datetime64[ns]\n",
      " 4   team1            756 non-null    category      \n",
      " 5   team2            756 non-null    category      \n",
      " 6   toss_winner      756 non-null    category      \n",
      " 7   toss_decision    756 non-null    category      \n",
      " 8   result           756 non-null    category      \n",
      " 9   dl_applied       756 non-null    int64         \n",
      " 10  winner           752 non-null    category      \n",
      " 11  win_by_runs      756 non-null    int64         \n",
      " 12  win_by_wickets   756 non-null    int64         \n",
      " 13  player_of_match  752 non-null    category      \n",
      " 14  venue            756 non-null    category      \n",
      " 15  umpire1          756 non-null    category      \n",
      " 16  umpire2          756 non-null    category      \n",
      " 17  umpire3          119 non-null    category      \n",
      "dtypes: category(12), datetime64[ns](1), int64(5)\n",
      "memory usage: 69.9 KB\n"
     ]
    }
   ],
   "source": [
    "matches_df.info()"
   ]
  },
  {
   "cell_type": "markdown",
   "metadata": {},
   "source": [
    "### Modifications Made to Matches Dataframe\n",
    "- city Feature \n",
    "    - I found few Duplicate values Bangalore and Bengaluru and Chandigarh and Mohali\n",
    "    - Found 7 NA values and filled it with Dubai by looking at the venue \n",
    "    - Type casted to categories as we are not going to add any further values\n",
    "\n",
    "\n",
    "- date Feature \n",
    "    - Type casted to DateTime format\n",
    "\n",
    "\n",
    "- team1 Feature\n",
    "    - I found duplicate entries for Rising Pune Supergiant so replaced for entire dataframe\n",
    "    - Type casted to categories\n",
    "\n",
    "\n",
    "- team2 Feature\n",
    "    - Type casted to categories \n",
    "\n",
    "\n",
    "- toss_winner Feature \n",
    "    - Type casted to categories \n",
    "\n",
    "\n",
    "- toss_decision Feature \n",
    "    - Type casted to categories \n",
    "\n",
    "\n",
    "- result Feature \n",
    "    - Type casted to categories \n",
    "\n",
    "\n",
    "- winner Feature \n",
    "    - 4NA values found for no result matches (3 No Result matches involved RCB)\n",
    "    - Type casted to categories \n",
    "\n",
    "\n",
    "- player_of_match Feature\n",
    "    - 4NA values found for no result matches (3 No Result matches involved RCB)\n",
    "    - Type casted to categories \n",
    "\n",
    "\n",
    "- venue Feature \n",
    "    - Lot of duplicate entries found with different spelling  \n",
    "    - Modified the entries for below venues \n",
    "        - Rajiv Gandhi International Stadium, Uppal vs Rajiv Gandhi Intl. Cricket Stadium (Hyderabad)\n",
    "        - Punjab Cricket Association IS Bindra Stadium, Mohali vs Punjab Cricket Association Stadium, Mohali\n",
    "        - M. A. Chidambaram Stadium vs MA Chidambaram Stadium, Chepauk\n",
    "        - M Chinnaswamy Stadium vs M. Chinnaswamy Stadium\n",
    "        - Feroz Shah Kotla vs Feroz Shah Kotla Ground\n",
    "    - Type casted to categories \n",
    "\n",
    "\n",
    "- umpire1 Feature \n",
    "    - 2 Values were not found, got the information from ESPN Cricinfo\n",
    "        - 2017-04-08 (index=4) u1 = Virender Sharma [link](https://www.espncricinfo.com/series/8048/scorecard/1082595/royal-challengers-bangalore-vs-delhi-daredevils-5th-match-indian-premier-league-2017)\n",
    "        - 2019-08-05 (index=753) u1 = Bruce Oxenford [link](https://www.espncricinfo.com/series/8048/scorecard/1181766/delhi-capitals-vs-sunrisers-hyderabad-eliminator-indian-premier-league-2019)\n",
    "    - Replaced those values and type cated to categories \n",
    "\n",
    "\n",
    "- umpire2 Feature\n",
    "    - 2 Values were not found, got the information from ESPN Cricinfo\n",
    "        - 2017-04-08 (index=4) u1 = Sundaram Ravi [link](https://www.espncricinfo.com/series/8048/scorecard/1082595/royal-challengers-bangalore-vs-delhi-daredevils-5th-match-indian-premier-league-2017)\n",
    "        - 2019-08-05 (index=753) u1 = Sundaram Ravi [link](https://www.espncricinfo.com/series/8048/scorecard/1181766/delhi-capitals-vs-sunrisers-hyderabad-eliminator-indian-premier-league-2019)\n",
    "    - Replaced those values and type cated to categories \n",
    "   \n",
    "\n",
    "#### By Typecasting, we have reduced the memory consumption by 30%"
   ]
  },
  {
   "cell_type": "code",
   "execution_count": null,
   "metadata": {},
   "outputs": [],
   "source": [
    "\n"
   ]
  },
  {
   "cell_type": "code",
   "execution_count": null,
   "metadata": {},
   "outputs": [],
   "source": []
  },
  {
   "cell_type": "code",
   "execution_count": null,
   "metadata": {},
   "outputs": [],
   "source": []
  }
 ],
 "metadata": {
  "kernelspec": {
   "display_name": "Python 3",
   "language": "python",
   "name": "python3"
  },
  "language_info": {
   "codemirror_mode": {
    "name": "ipython",
    "version": 3
   },
   "file_extension": ".py",
   "mimetype": "text/x-python",
   "name": "python",
   "nbconvert_exporter": "python",
   "pygments_lexer": "ipython3",
   "version": "3.8.2"
  }
 },
 "nbformat": 4,
 "nbformat_minor": 4
}
