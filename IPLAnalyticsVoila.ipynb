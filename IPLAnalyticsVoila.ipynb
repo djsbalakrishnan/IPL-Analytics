{
 "cells": [
  {
   "cell_type": "code",
   "execution_count": 1,
   "metadata": {},
   "outputs": [],
   "source": [
    "import pandas as pd \n",
    "import numpy as np"
   ]
  },
  {
   "cell_type": "code",
   "execution_count": null,
   "metadata": {},
   "outputs": [],
   "source": [
    "matches_df = pd.read_csv(\"data/matches.csv\")\n",
    "deliveries_df = pd.read_csv(\"data/deliveries.csv\")"
   ]
  },
  {
   "cell_type": "code",
   "execution_count": null,
   "metadata": {},
   "outputs": [],
   "source": [
    "# Note: Bangalore and Bengaluru are separate Chandigarh and Mohali are separate (Categories) (7 NA values - Dubai)\n",
    "matches_df.replace(\"Bengaluru\", \"Bangalore\", inplace=True)\n",
    "matches_df.replace(\"Mohali\", \"Chandigarh\", inplace=True)\n",
    "matches_df[\"city\"].fillna(\"Dubai\", inplace=True)\n",
    "matches_df[\"city\"] = matches_df[\"city\"].astype(\"category\")"
   ]
  },
  {
   "cell_type": "code",
   "execution_count": null,
   "metadata": {},
   "outputs": [],
   "source": [
    "matches_df[\"date\"] # can be converted to datetime format\n",
    "matches_df[\"date\"] = pd.to_datetime(matches_df[\"date\"])"
   ]
  },
  {
   "cell_type": "code",
   "execution_count": null,
   "metadata": {},
   "outputs": [],
   "source": [
    "matches_df.replace(\"Rising Pune Supergiants\", \"Rising Pune Supergiant\", inplace=True)\n",
    "matches_df[\"team1\"] = matches_df[\"team1\"].astype(\"category\")\n",
    "matches_df[\"team2\"] = matches_df[\"team2\"].astype(\"category\")\n",
    "matches_df[\"toss_winner\"] = matches_df[\"toss_winner\"].astype(\"category\")\n",
    "matches_df[\"toss_decision\"] = matches_df[\"toss_decision\"].astype(\"category\")\n",
    "matches_df[\"result\"] = matches_df[\"result\"].astype(\"category\")\n",
    "matches_df[\"player_of_match\"] = matches_df[\"player_of_match\"].astype(\"category\")\n",
    "matches_df[\"winner\"] = matches_df[\"winner\"].astype(\"category\")"
   ]
  },
  {
   "cell_type": "code",
   "execution_count": null,
   "metadata": {},
   "outputs": [],
   "source": [
    "matches_df.replace(\"Rajiv Gandhi Intl. Cricket Stadium\", \"Rajiv Gandhi International Stadium, Uppal\", inplace=True)\n",
    "matches_df.replace(\"Punjab Cricket Association Stadium, Mohali\", \"Punjab Cricket Association IS Bindra Stadium, Mohali\", inplace=True)\n",
    "matches_df.replace(\"M. A. Chidambaram Stadium\", \"MA Chidambaram Stadium, Chepauk\", inplace=True)\n",
    "matches_df.replace(\"Feroz Shah Kotla Ground\", \"Feroz Shah Kotla\", inplace=True)\n",
    "matches_df[\"venue\"] = matches_df[\"venue\"].astype(\"category\")"
   ]
  },
  {
   "cell_type": "code",
   "execution_count": null,
   "metadata": {},
   "outputs": [],
   "source": [
    "matches_df.loc[4, \"umpire1\"] = \"VK Sharma\" # 2017-04-08 (index=4) u1 = Virender Sharma (https://www.espncricinfo.com/series/8048/scorecard/1082595/royal-challengers-bangalore-vs-delhi-daredevils-5th-match-indian-premier-league-2017)\n",
    "matches_df.loc[753, \"umpire1\"] = \"Bruce Oxenford\" # 2019-08-05 (index=753) u1 = Bruce Oxenford (https://www.espncricinfo.com/series/8048/scorecard/1181766/delhi-capitals-vs-sunrisers-hyderabad-eliminator-indian-premier-league-2019)\n",
    "matches_df[\"umpire1\"] = matches_df[\"umpire1\"].astype(\"category\")\n",
    "matches_df.loc[4, \"umpire2\"] = \"S Ravi\" # 2017-04-08 (index=4) u2 = Sundaram Ravi (https://www.espncricinfo.com/series/8048/scorecard/1082595/royal-challengers-bangalore-vs-delhi-daredevils-5th-match-indian-premier-league-2017)\n",
    "matches_df.loc[753, \"umpire2\"] = \"S Ravi\" # 2019-08-05 (index=753) u2 = Sundaram Ravi (https://www.espncricinfo.com/series/8048/scorecard/1181766/delhi-capitals-vs-sunrisers-hyderabad-eliminator-indian-premier-league-2019)\n",
    "matches_df[\"umpire2\"] = matches_df[\"umpire2\"].astype(\"category\")"
   ]
  },
  {
   "cell_type": "code",
   "execution_count": null,
   "metadata": {},
   "outputs": [],
   "source": [
    "# umpire 3 not very much concerned!\n",
    "matches_df[\"umpire3\"] = matches_df[\"umpire3\"].astype(\"category\") \n",
    "matches_df[\"umpire3\"].value_counts() "
   ]
  },
  {
   "cell_type": "code",
   "execution_count": null,
   "metadata": {},
   "outputs": [],
   "source": []
  },
  {
   "cell_type": "code",
   "execution_count": null,
   "metadata": {},
   "outputs": [],
   "source": [
    "# Deliveries DF Memory Utilization\n",
    "deliveries_df.replace(\"Rising Pune Supergiants\", \"Rising Pune Supergiant\", inplace=True)\n",
    "deliveries_df[\"batting_team\"] = deliveries_df[\"batting_team\"].astype(\"category\")\n",
    "deliveries_df[\"bowling_team\"] = deliveries_df[\"bowling_team\"].astype(\"category\")\n",
    "deliveries_df[\"batsman\"] = deliveries_df[\"batsman\"].astype(\"category\")\n",
    "deliveries_df[\"non_striker\"] = deliveries_df[\"non_striker\"].astype(\"category\")\n",
    "deliveries_df[\"player_dismissed\"] = deliveries_df[\"player_dismissed\"].astype(\"category\")\n",
    "deliveries_df[\"dismissal_kind\"] = deliveries_df[\"dismissal_kind\"].astype(\"category\")\n",
    "deliveries_df[\"fielder\"] = deliveries_df[\"fielder\"].astype(\"category\")"
   ]
  },
  {
   "cell_type": "code",
   "execution_count": null,
   "metadata": {},
   "outputs": [],
   "source": []
  },
  {
   "cell_type": "code",
   "execution_count": null,
   "metadata": {},
   "outputs": [],
   "source": []
  },
  {
   "cell_type": "code",
   "execution_count": null,
   "metadata": {},
   "outputs": [],
   "source": []
  },
  {
   "cell_type": "code",
   "execution_count": null,
   "metadata": {},
   "outputs": [],
   "source": []
  },
  {
   "cell_type": "code",
   "execution_count": null,
   "metadata": {},
   "outputs": [],
   "source": []
  },
  {
   "cell_type": "code",
   "execution_count": null,
   "metadata": {},
   "outputs": [],
   "source": []
  }
 ],
 "metadata": {
  "kernelspec": {
   "display_name": "Python 3",
   "language": "python",
   "name": "python3"
  },
  "language_info": {
   "codemirror_mode": {
    "name": "ipython",
    "version": 3
   },
   "file_extension": ".py",
   "mimetype": "text/x-python",
   "name": "python",
   "nbconvert_exporter": "python",
   "pygments_lexer": "ipython3",
   "version": "3.8.2"
  }
 },
 "nbformat": 4,
 "nbformat_minor": 4
}
